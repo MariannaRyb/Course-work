{
 "cells": [
  {
   "cell_type": "markdown",
   "metadata": {},
   "source": [
    "Import all the libraries that are needed:"
   ]
  },
  {
   "cell_type": "code",
   "execution_count": 4,
   "metadata": {},
   "outputs": [],
   "source": [
    "import numpy as np\n",
    "import pandas as pd\n",
    "import matplotlib.pyplot as plt\n",
    "import seaborn as sns\n",
    "from sklearn.neighbors import KNeighborsClassifier\n",
    "from sklearn.neighbors import KNeighborsRegressor\n",
    "from sklearn.model_selection import train_test_split\n",
    "from sklearn.metrics import accuracy_score\n",
    "from sklearn.ensemble import RandomForestClassifier\n",
    "from sklearn.ensemble import RandomForestRegressor\n",
    "from sklearn.tree import DecisionTreeClassifier # Import Decision Tree Classifier\n",
    "from sklearn.tree import DecisionTreeRegressor\n",
    "from sklearn import tree\n",
    "import matplotlib.lines as mlines\n",
    "plt.rcParams['figure.figsize'] = (8,6)\n",
    "%matplotlib inline\n",
    "from sklearn import svm\n",
    "from sklearn.model_selection import validation_curve\n",
    "from sklearn.model_selection import GridSearchCV\n",
    "\n",
    "\n",
    "\n",
    "pd.set_option('display.max_columns', None)\n",
    "# функция, позволяющая выводить графики прямо в ноутбук\n",
    "%matplotlib inline\n",
    "from sklearn.tree import DecisionTreeClassifier # Import Decision Tree Classifier\n",
    "from sklearn.model_selection import train_test_split # Import train_test_split function\n",
    "from sklearn import metrics #Import scikit-learn metrics module for accuracy calculation\n",
    "\n",
    "from sklearn.metrics import mean_squared_error"
   ]
  },
  {
   "cell_type": "markdown",
   "metadata": {},
   "source": [
    "Read the data:"
   ]
  },
  {
   "cell_type": "code",
   "execution_count": 5,
   "metadata": {},
   "outputs": [],
   "source": [
    "data_training = pd.read_csv('C:/Users/Marianna Rybnikova/Desktop/Graphs_NN/sorted_binary_data_TEST.txt', header=None) \n",
    "data_testing = pd.read_csv('C:/Users/Marianna Rybnikova/Desktop/Graphs_NN/sorted_binary_data_TRAIN.txt', header=None) \n",
    "\n",
    "data_testing.columns = ['Card ' + str(i) for i in range(1, 6)] + ['Combination']\n",
    "data_training.columns = ['Card ' + str(i) for i in range(1, 6)] + ['Combination']\n",
    "\n",
    "features_test = data_testing.drop(('Combination'), axis=1)  # Выбрасываем столбец 'Combination'.\n",
    "features_train = data_training.drop(('Combination'), axis=1)\n",
    "answers_test = data_testing['Combination']\n",
    "answers_train = data_training['Combination']"
   ]
  },
  {
   "cell_type": "markdown",
   "metadata": {},
   "source": [
    "# K-Neighbors Classification"
   ]
  },
  {
   "cell_type": "markdown",
   "metadata": {},
   "source": [
    "Fit the model and do the prediction:"
   ]
  },
  {
   "cell_type": "code",
   "execution_count": 6,
   "metadata": {
    "scrolled": true
   },
   "outputs": [
    {
     "name": "stdout",
     "output_type": "stream",
     "text": [
      "[0 1 1 ... 1 1 1]\n"
     ]
    }
   ],
   "source": [
    "knn = KNeighborsClassifier(n_neighbors=4) # одинаковые веса; в ачестве метрики евклидово расстояние\n",
    "knn.fit(features_train, answers_train)\n",
    "predicted_value = knn.predict(features_test)\n",
    "print(predicted_value)"
   ]
  },
  {
   "cell_type": "markdown",
   "metadata": {},
   "source": [
    "Plot training accuracy VS testing accuracy"
   ]
  },
  {
   "cell_type": "code",
   "execution_count": 7,
   "metadata": {},
   "outputs": [
    {
     "data": {
      "text/plain": [
       "<matplotlib.legend.Legend at 0x19d83065e50>"
      ]
     },
     "execution_count": 7,
     "metadata": {},
     "output_type": "execute_result"
    },
    {
     "data": {
      "image/png": "[encoded data removed]",
      "text/plain": [
       "<Figure size 432x288 with 1 Axes>"
      ]
     },
     "metadata": {
      "needs_background": "light"
     },
     "output_type": "display_data"
    }
   ],
   "source": [
    "\n",
    "training_accuracy = [] \n",
    "test_accuracy = []\n",
    "# try n_neighbors from 1 to 10 \n",
    "neighbors_settings = range(1, 61, 6)\n",
    "for n_neighbors in neighbors_settings:\n",
    "# build the model\n",
    "    clf = KNeighborsClassifier(n_neighbors=n_neighbors) \n",
    "    clf.fit(features_train, answers_train)\n",
    "# record training set accuracy \n",
    "    training_accuracy.append(clf.score(features_train, answers_train)) # record generalization accuracy \n",
    "    test_accuracy.append(clf.score(features_test, answers_test))\n",
    "plt.plot(neighbors_settings, training_accuracy, label=\"training accuracy\")\n",
    "plt.plot(neighbors_settings, test_accuracy, label=\"test accuracy\")\n",
    "plt.ylabel(\"Accuracy\")\n",
    "plt.xlabel(\"n_neighbors\")\n",
    "plt.legend()"
   ]
  },
  {
   "cell_type": "markdown",
   "metadata": {},
   "source": [
    "MSE:"
   ]
  },
  {
   "cell_type": "code",
   "execution_count": 8,
   "metadata": {},
   "outputs": [
    {
     "data": {
      "text/plain": [
       "0.164783"
      ]
     },
     "execution_count": 8,
     "metadata": {},
     "output_type": "execute_result"
    }
   ],
   "source": [
    "mean_squared_error(answers_test, predicted_value)"
   ]
  },
  {
   "cell_type": "markdown",
   "metadata": {},
   "source": [
    "MAE:"
   ]
  },
  {
   "cell_type": "code",
   "execution_count": 9,
   "metadata": {},
   "outputs": [
    {
     "name": "stdout",
     "output_type": "stream",
     "text": [
      "Mean Absolute Error: 0.09 points\n"
     ]
    }
   ],
   "source": [
    "errors = abs(predicted_value - answers_test)\n",
    "# Print out the mean absolute error (mae)\n",
    "print('Mean Absolute Error:', round(np.mean(errors), 2), 'points')\n",
    "\n",
    "#accuracy_score(answers_test, predictions)"
   ]
  },
  {
   "cell_type": "markdown",
   "metadata": {},
   "source": [
    "Accuracy:"
   ]
  },
  {
   "cell_type": "code",
   "execution_count": 10,
   "metadata": {
    "scrolled": true
   },
   "outputs": [
    {
     "name": "stdout",
     "output_type": "stream",
     "text": [
      "accuracy of the algorithm: 93.38 %\n"
     ]
    },
    {
     "data": {
      "text/plain": [
       "933806"
      ]
     },
     "execution_count": 10,
     "metadata": {},
     "output_type": "execute_result"
    }
   ],
   "source": [
    "correct = 0\n",
    "for i in range (0, len(predicted_value)):\n",
    "    if (round(predicted_value[i]) == answers_test[i]):\n",
    "        correct += 1\n",
    "accuracy_knn_c = round(((correct / len(predicted_value)) * 100), 2)\n",
    "print (\"accuracy of the algorithm:\", accuracy_knn_c, \"%\")\n",
    "correct"
   ]
  },
  {
   "cell_type": "markdown",
   "metadata": {},
   "source": [
    "Find optimal number of neighbors"
   ]
  },
  {
   "cell_type": "code",
   "execution_count": 11,
   "metadata": {},
   "outputs": [],
   "source": [
    "metrics_2 = []\n",
    "for n in range(1, 30, 3):\n",
    "    knn = KNeighborsClassifier(n_neighbors=n)\n",
    "    knn.fit(features_train, answers_train)\n",
    "    #scores = cross_val_score(knn, X_train, y_train, cv=5, scoring='neg_mean_squared_error')\n",
    "    #metrics.append(np.mean(scores))\n",
    "    metrics_2.append(mean_squared_error(answers_test, knn.predict(features_test)))"
   ]
  },
  {
   "cell_type": "code",
   "execution_count": 12,
   "metadata": {
    "scrolled": true
   },
   "outputs": [
    {
     "data": {
      "text/plain": [
       "Text(0.5, 0, 'Number of neighbors for KNN Classification')"
      ]
     },
     "execution_count": 12,
     "metadata": {},
     "output_type": "execute_result"
    },
    {
     "data": {
      "image/png": "[encoded data removed]",
      "text/plain": [
       "<Figure size 432x288 with 1 Axes>"
      ]
     },
     "metadata": {
      "needs_background": "light"
     },
     "output_type": "display_data"
    }
   ],
   "source": [
    "plt.plot(range(1, 30, 3), metrics_2)\n",
    "plt.ylabel('Mean squared error')\n",
    "plt.xlabel('Number of neighbors for KNN Classification')"
   ]
  },
  {
   "cell_type": "markdown",
   "metadata": {},
   "source": [
    "# K-Nearest Neighbors Regression"
   ]
  },
  {
   "cell_type": "markdown",
   "metadata": {},
   "source": [
    "Do the prediction:"
   ]
  },
  {
   "cell_type": "code",
   "execution_count": 13,
   "metadata": {
    "scrolled": true
   },
   "outputs": [
    {
     "name": "stdout",
     "output_type": "stream",
     "text": [
      "[1.25 1.   1.   ... 1.   1.   1.5 ]\n"
     ]
    }
   ],
   "source": [
    "knn = KNeighborsRegressor(n_neighbors=4) # одинаковые веса; в ачестве метрики евклидово расстояние\n",
    "knn.fit(features_train, answers_train)\n",
    "predicted_value = knn.predict(features_test)\n",
    "print(predicted_value)"
   ]
  },
  {
   "cell_type": "markdown",
   "metadata": {},
   "source": [
    "Calculate the accuracy:"
   ]
  },
  {
   "cell_type": "code",
   "execution_count": 14,
   "metadata": {
    "scrolled": true
   },
   "outputs": [
    {
     "name": "stdout",
     "output_type": "stream",
     "text": [
      "accuracy of the algorithm: 92.3997 %\n"
     ]
    },
    {
     "data": {
      "text/plain": [
       "923997"
      ]
     },
     "execution_count": 14,
     "metadata": {},
     "output_type": "execute_result"
    }
   ],
   "source": [
    "correct = 0\n",
    "for i in range (0, len(predicted_value)):\n",
    "    if (round(predicted_value[i]) == answers_test[i]):\n",
    "        correct += 1\n",
    "accuracy_knn_r = round((correct / len(predicted_value)) * 100, 2)\n",
    "print (\"accuracy of the algorithm:\", (correct / len(predicted_value)) * 100, \"%\")\n",
    "correct"
   ]
  },
  {
   "cell_type": "markdown",
   "metadata": {},
   "source": [
    "Find optimal number of neighbors for KNN Classification and Regression"
   ]
  },
  {
   "cell_type": "code",
   "execution_count": 15,
   "metadata": {},
   "outputs": [],
   "source": [
    "metrics = []\n",
    "for n in range(1, 30, 3):\n",
    "    knn = KNeighborsRegressor(n_neighbors=n)\n",
    "    knn.fit(features_train, answers_train)\n",
    "    #scores = cross_val_score(knn, X_train, y_train, cv=5, scoring='neg_mean_squared_error')\n",
    "    #metrics.append(np.mean(scores))\n",
    "    metrics.append(mean_squared_error(answers_test, knn.predict(features_test)))"
   ]
  },
  {
   "cell_type": "code",
   "execution_count": 16,
   "metadata": {},
   "outputs": [
    {
     "data": {
      "image/png": "[encoded data removed]",
      "text/plain": [
       "<Figure size 432x288 with 1 Axes>"
      ]
     },
     "metadata": {
      "needs_background": "light"
     },
     "output_type": "display_data"
    },
    {
     "data": {
      "text/plain": [
       "<Figure size 3600x3600 with 0 Axes>"
      ]
     },
     "metadata": {},
     "output_type": "display_data"
    }
   ],
   "source": [
    "plt.plot(range(1, 30, 3), metrics, color='magenta', marker='o', label='KNN Regression')\n",
    "plt.plot(range(1, 30, 3), metrics_2, color='orange', marker='o', label='KNN Classification')\n",
    "\n",
    "plt.xlabel('Number of neighbors', fontsize = 11)\n",
    "plt.ylabel('Mean squared error', fontsize = 11)\n",
    "plt.legend()\n",
    "plt.grid(True)\n",
    "plt.title(\"Correlation between MSE and the number of neighbors in KNN algorithms\")\n",
    "plt.figure(figsize=(50,50))\n",
    "plt.show()"
   ]
  },
  {
   "cell_type": "markdown",
   "metadata": {},
   "source": [
    "# Random Forest Classification"
   ]
  },
  {
   "cell_type": "markdown",
   "metadata": {},
   "source": [
    "Do the prediction:"
   ]
  },
  {
   "cell_type": "code",
   "execution_count": 17,
   "metadata": {},
   "outputs": [],
   "source": [
    "clf_rf = RandomForestClassifier(max_depth=14, criterion = 'entropy')\n",
    "clf_rf.fit(features_train, answers_train)\n",
    "predictions = clf_rf.predict(features_test)"
   ]
  },
  {
   "cell_type": "markdown",
   "metadata": {},
   "source": [
    "Calculate accuracy:"
   ]
  },
  {
   "cell_type": "code",
   "execution_count": 18,
   "metadata": {},
   "outputs": [
    {
     "name": "stdout",
     "output_type": "stream",
     "text": [
      "accuracy of the algorithm: 87.12140000000001 %\n"
     ]
    },
    {
     "data": {
      "text/plain": [
       "871214"
      ]
     },
     "execution_count": 18,
     "metadata": {},
     "output_type": "execute_result"
    }
   ],
   "source": [
    "correct = 0\n",
    "for i in range (0, len(predictions)):\n",
    "    if (round(predictions[i]) == answers_test[i]):\n",
    "        correct += 1\n",
    "accuracy_rf_r = round((correct / len(predictions)) * 100, 3)\n",
    "print (\"accuracy of the algorithm:\", (correct / len(predictions)) * 100, \"%\")\n",
    "acc_rf_c = round((correct / len(predictions)) * 100, 2)\n",
    "correct"
   ]
  },
  {
   "cell_type": "markdown",
   "metadata": {},
   "source": [
    "Now find the optimal depth of the decision tree:"
   ]
  },
  {
   "cell_type": "code",
   "execution_count": 22,
   "metadata": {},
   "outputs": [],
   "source": [
    "metrics3 = []\n",
    "for n in range (1, 20, 2):\n",
    "    clf_rf = RandomForestClassifier(max_depth=n, criterion = 'gini')\n",
    "    clf_rf.fit(features_train, answers_train)\n",
    "    predictions = clf_rf.predict(features_test)\n",
    "    metrics3.append(mean_squared_error(answers_test, predictions))"
   ]
  },
  {
   "cell_type": "code",
   "execution_count": 23,
   "metadata": {},
   "outputs": [],
   "source": [
    "metrics4 = []\n",
    "for m in range (1, 20, 2):\n",
    "    clf_rf = RandomForestRegressor(max_depth=m, random_state=1)\n",
    "    clf_rf.fit(features_train, answers_train)\n",
    "    predictions = clf_rf.predict(features_test)\n",
    "    metrics4.append(mean_squared_error(answers_test, predictions))"
   ]
  },
  {
   "cell_type": "code",
   "execution_count": 24,
   "metadata": {},
   "outputs": [
    {
     "data": {
      "image/png": "[encoded data removed]",
      "text/plain": [
       "<Figure size 432x288 with 1 Axes>"
      ]
     },
     "metadata": {
      "needs_background": "light"
     },
     "output_type": "display_data"
    }
   ],
   "source": [
    "plt.plot(range(1, 20, 2), metrics4, color='magenta', marker = 'o', label = 'Regression RF')\n",
    "plt.plot(range(1, 20, 2), metrics3, color='orange', marker='o',label = 'Classification RF')\n",
    "#for i_x, i_y in zip(range(1, 100, 10), metrics3):\n",
    "    #plt.text(i_x, i_y, '  ({}, {})'.format(i_x, i_y), rotation='45')\n",
    "plt.ylabel('Mean squared error')\n",
    "plt.xlabel('Maximal depth', )\n",
    "plt.title(\"Correlation between MSE and the maximal depth of the Random Forest\")\n",
    "plt.grid(True)\n",
    "plt.legend()\n",
    "plt.show()"
   ]
  },
  {
   "cell_type": "markdown",
   "metadata": {},
   "source": [
    "Do the prediction fo Regression:"
   ]
  },
  {
   "cell_type": "code",
   "execution_count": 25,
   "metadata": {},
   "outputs": [],
   "source": [
    "clf_rf = RandomForestRegressor(max_depth=14, random_state=1)\n",
    "clf_rf.fit(features_train, answers_train)\n",
    "predictions3 = clf_rf.predict(features_test)"
   ]
  },
  {
   "cell_type": "markdown",
   "metadata": {},
   "source": [
    "Calculate the accuracy:"
   ]
  },
  {
   "cell_type": "code",
   "execution_count": 26,
   "metadata": {
    "scrolled": true
   },
   "outputs": [
    {
     "name": "stdout",
     "output_type": "stream",
     "text": [
      "accuracy of the algorithm: 85.7841 %\n"
     ]
    },
    {
     "data": {
      "text/plain": [
       "857841"
      ]
     },
     "execution_count": 26,
     "metadata": {},
     "output_type": "execute_result"
    }
   ],
   "source": [
    "correct6 = 0\n",
    "for i in range (0, len(predictions3)):\n",
    "    if (round(predictions3[i]) == answers_test[i]):\n",
    "        correct6 += 1\n",
    "print (\"accuracy of the algorithm:\", (correct6 / len(predictions3)) * 100, \"%\")\n",
    "acc_rf_r = round(correct6 / len(predictions3) * 100,2)\n",
    "correct6"
   ]
  },
  {
   "cell_type": "markdown",
   "metadata": {},
   "source": [
    "Do the prediction for Classification:"
   ]
  },
  {
   "cell_type": "code",
   "execution_count": 27,
   "metadata": {},
   "outputs": [],
   "source": [
    "clf_rf = RandomForestClassifier(max_depth=10, random_state=1)\n",
    "clf_rf.fit(features_train, answers_train)\n",
    "predictions34= clf_rf.predict(features_test)"
   ]
  },
  {
   "cell_type": "markdown",
   "metadata": {},
   "source": [
    "Calculate the accuracy:"
   ]
  },
  {
   "cell_type": "code",
   "execution_count": 28,
   "metadata": {},
   "outputs": [
    {
     "name": "stdout",
     "output_type": "stream",
     "text": [
      "accuracy of the algorithm: 80.3334 %\n"
     ]
    },
    {
     "data": {
      "text/plain": [
       "803334"
      ]
     },
     "execution_count": 28,
     "metadata": {},
     "output_type": "execute_result"
    }
   ],
   "source": [
    "correct7 = 0\n",
    "for i in range (0, len(predictions34)):\n",
    "    if (round(predictions34[i]) == answers_test[i]):\n",
    "        correct7 += 1\n",
    "print (\"accuracy of the algorithm:\", (correct7 / len(predictions34)) * 100, \"%\")\n",
    "acc_rf_r = round(correct7 / len(predictions3) * 100,2)\n",
    "correct7"
   ]
  },
  {
   "cell_type": "markdown",
   "metadata": {},
   "source": [
    "# Decision Tree Classification"
   ]
  },
  {
   "cell_type": "markdown",
   "metadata": {},
   "source": [
    "Do predictions:"
   ]
  },
  {
   "cell_type": "code",
   "execution_count": 33,
   "metadata": {},
   "outputs": [],
   "source": [
    "clf_dt = DecisionTreeClassifier(criterion = 'gini', max_depth=4, splitter = 'best')\n",
    "clf_dts = clf_dt.fit(features_train, answers_train)\n",
    "y_pred = clf_dts.predict(features_test)"
   ]
  },
  {
   "cell_type": "code",
   "execution_count": 34,
   "metadata": {},
   "outputs": [],
   "source": [
    "from sklearn import tree"
   ]
  },
  {
   "cell_type": "markdown",
   "metadata": {},
   "source": [
    "Plot the obtained decision tree:"
   ]
  },
  {
   "cell_type": "code",
   "execution_count": 35,
   "metadata": {
    "scrolled": true
   },
   "outputs": [
    {
     "data": {
      "image/png": "[encoded data removed]",
      "text/plain": [
       "<Figure size 720x720 with 1 Axes>"
      ]
     },
     "metadata": {
      "needs_background": "light"
     },
     "output_type": "display_data"
    }
   ],
   "source": [
    "plt.figure(figsize=(10,10))  # set plot size (denoted in inches)\n",
    "tree.plot_tree(clf_dt, fontsize=10)\n",
    "plt.show()"
   ]
  },
  {
   "cell_type": "markdown",
   "metadata": {},
   "source": [
    "Find the optimal depth of the decision tree:"
   ]
  },
  {
   "cell_type": "code",
   "execution_count": 36,
   "metadata": {},
   "outputs": [],
   "source": [
    "acc = []\n",
    "for i in range (1, 40, 1):\n",
    "    clf = DecisionTreeClassifier(criterion = 'entropy', max_depth=i)\n",
    "    clf = clf.fit(features_train, answers_train)\n",
    "    y_pred2 = clf.predict(features_test)\n",
    "    acc.append(mean_squared_error(answers_test, y_pred2))"
   ]
  },
  {
   "cell_type": "code",
   "execution_count": 37,
   "metadata": {},
   "outputs": [],
   "source": [
    "acc10 = []\n",
    "for i in range (1, 40, 1):\n",
    "    clf_10 = DecisionTreeClassifier(criterion = 'gini', max_depth=i)\n",
    "    clf_101 = clf_10.fit(features_train, answers_train)\n",
    "    y_pred23 = clf_101.predict(features_test)\n",
    "    acc10.append(mean_squared_error(answers_test, y_pred23))"
   ]
  },
  {
   "cell_type": "code",
   "execution_count": 38,
   "metadata": {},
   "outputs": [
    {
     "data": {
      "image/png": "[encoded data removed]",
      "text/plain": [
       "<Figure size 432x288 with 1 Axes>"
      ]
     },
     "metadata": {
      "needs_background": "light"
     },
     "output_type": "display_data"
    }
   ],
   "source": [
    "plt.plot(range(1, 40, 1), acc, color='orange', label='DT Classification')\n",
    "plt.plot(range(1, 40, 1), acc10, color='green', label='DT Classification')\n",
    "#plt.plot(range(1, 300, 5), acc_2, color='orange', marker='o', label='DT Classification')\n",
    "plt.title('Correlation between MSE and the maximal depth of the decision tree', fontsize=14)\n",
    "plt.xlabel('Maximl depth', fontsize=14)\n",
    "plt.ylabel('MSE', fontsize=14)\n",
    "plt.legend()\n",
    "plt.grid(True)\n",
    "plt.show()"
   ]
  },
  {
   "cell_type": "code",
   "execution_count": 39,
   "metadata": {},
   "outputs": [
    {
     "name": "stdout",
     "output_type": "stream",
     "text": [
      "Accuracy: 0.600699\n"
     ]
    }
   ],
   "source": [
    "print(\"Accuracy:\", accuracy_score(answers_test, y_pred))\n",
    "acc_dt_c = round(accuracy_score(answers_test, y_pred) * 100,2)"
   ]
  },
  {
   "cell_type": "code",
   "execution_count": 40,
   "metadata": {},
   "outputs": [
    {
     "name": "stdout",
     "output_type": "stream",
     "text": [
      "Accuracy: 0.600699\n"
     ]
    }
   ],
   "source": [
    "print(\"Accuracy:\", accuracy_score(answers_test, y_pred))\n",
    "acc_dt_c = round(accuracy_score(answers_test, y_pred) * 100,2)"
   ]
  },
  {
   "cell_type": "code",
   "execution_count": 41,
   "metadata": {},
   "outputs": [
    {
     "data": {
      "image/png": "[encoded data removed]",
      "text/plain": [
       "<Figure size 432x288 with 1 Axes>"
      ]
     },
     "metadata": {
      "needs_background": "light"
     },
     "output_type": "display_data"
    }
   ],
   "source": [
    "acc_entpory = 71.37\n",
    "acc_gini = 73.99\n",
    "algorithms = ('Gini', 'Entropy')\n",
    "accuracy = [acc_gini, acc_entpory]\n",
    "\n",
    "\n",
    "#plt.grid(True)\n",
    "bar = plt.bar(algorithms, accuracy, color='orange')\n",
    "plt.xlabel('Criterion', fontsize = 14)\n",
    "plt.ylabel('Accuracy, %', fontsize = 14)\n",
    "#plt.title('Accuracy of the applied algorithms')\n",
    "plt.xticks(rotation=90)\n",
    "\n",
    "plt.show()"
   ]
  },
  {
   "cell_type": "markdown",
   "metadata": {},
   "source": [
    "# Decision Tree Regression"
   ]
  },
  {
   "cell_type": "markdown",
   "metadata": {},
   "source": [
    "Do predictions:"
   ]
  },
  {
   "cell_type": "code",
   "execution_count": 42,
   "metadata": {},
   "outputs": [],
   "source": [
    "regr_1 = DecisionTreeClassifier(max_depth=5, criterion='gini')\n",
    "regr_1.fit(features_train, answers_train)\n",
    "y_9 = regr_1.predict(features_test)"
   ]
  },
  {
   "cell_type": "markdown",
   "metadata": {},
   "source": [
    "Calculate MSE:"
   ]
  },
  {
   "cell_type": "code",
   "execution_count": 43,
   "metadata": {
    "scrolled": true
   },
   "outputs": [
    {
     "data": {
      "text/plain": [
       "0.649046"
      ]
     },
     "execution_count": 43,
     "metadata": {},
     "output_type": "execute_result"
    }
   ],
   "source": [
    "mean_squared_error(answers_test, y_9)"
   ]
  },
  {
   "cell_type": "markdown",
   "metadata": {},
   "source": [
    "Find the optimal depth and plot the graph:"
   ]
  },
  {
   "cell_type": "code",
   "execution_count": 44,
   "metadata": {},
   "outputs": [],
   "source": [
    "flag = 0\n",
    "acc2 = []\n",
    "\n",
    "for i in range (1, 40, 2):\n",
    "    clf2 = DecisionTreeRegressor(max_depth=i)\n",
    "    clf2.fit(features_train, answers_train)\n",
    "    y_pred2 = clf2.predict(features_test)\n",
    "    acc2.append(mean_squared_error(answers_test, y_pred2))\n"
   ]
  },
  {
   "cell_type": "code",
   "execution_count": 47,
   "metadata": {},
   "outputs": [
    {
     "data": {
      "text/plain": [
       "0.4962058741355805"
      ]
     },
     "execution_count": 47,
     "metadata": {},
     "output_type": "execute_result"
    }
   ],
   "source": [
    "\n",
    "clf = DecisionTreeRegressor(max_depth=5)\n",
    "clf = clf.fit(features_train, answers_train)\n",
    "y_pred = clf.predict(features_test)\n",
    "mean_squared_error(answers_test, y_pred)"
   ]
  },
  {
   "cell_type": "code",
   "execution_count": 48,
   "metadata": {},
   "outputs": [],
   "source": [
    "import pandas as pd\n",
    "import numpy as np\n",
    "import matplotlib.pyplot as plt\n",
    "import seaborn as sns"
   ]
  },
  {
   "cell_type": "markdown",
   "metadata": {},
   "source": [
    "Now let us find out which features are the key ones in combination prediction:"
   ]
  },
  {
   "cell_type": "code",
   "execution_count": 49,
   "metadata": {
    "scrolled": true
   },
   "outputs": [
    {
     "data": {
      "image/png": "[encoded data removed]",
      "text/plain": [
       "<Figure size 432x288 with 1 Axes>"
      ]
     },
     "metadata": {
      "needs_background": "light"
     },
     "output_type": "display_data"
    }
   ],
   "source": [
    "features = ['Card 1', 'Card 2', 'Card 3', 'Card 4', 'Card 5']\n",
    "importances = clf_rf.feature_importances_\n",
    "indices = np.argsort(importances)\n",
    "\n",
    "#plt.title('Feature Importances')\n",
    "plt.barh(range(len(indices)), importances[indices], color='orange', align='center')\n",
    "plt.yticks(range(len(indices)), [features[i] for i in indices])\n",
    "plt.xlabel('Relative Importance')\n",
    "plt.show()"
   ]
  },
  {
   "cell_type": "markdown",
   "metadata": {},
   "source": [
    "What is the percentage of the correct predictions?"
   ]
  },
  {
   "cell_type": "code",
   "execution_count": 52,
   "metadata": {},
   "outputs": [
    {
     "name": "stdout",
     "output_type": "stream",
     "text": [
      "accuracy of the algorithm: 62.1402 %\n"
     ]
    },
    {
     "data": {
      "text/plain": [
       "621402"
      ]
     },
     "execution_count": 52,
     "metadata": {},
     "output_type": "execute_result"
    }
   ],
   "source": [
    "correct = 0\n",
    "for i in range (0, len(answers_test)):\n",
    "    if (round(y_9[i]) == answers_test[i]):\n",
    "        correct += 1\n",
    "print (\"accuracy of the algorithm:\", (correct / len(y_pred)) * 100, \"%\")\n",
    "acc_dt_r = round((correct / len(y_pred)) * 100,2)\n",
    "correct"
   ]
  },
  {
   "cell_type": "markdown",
   "metadata": {},
   "source": [
    "Change the depth of the tree and see that MSE is decreasing, while the accuracy is growing:"
   ]
  },
  {
   "cell_type": "code",
   "execution_count": 53,
   "metadata": {},
   "outputs": [],
   "source": [
    "regr_2 = DecisionTreeRegressor(max_depth=40)\n",
    "regr_2.fit(features_train, answers_train)\n",
    "y_2 = regr_2.predict(features_test)"
   ]
  },
  {
   "cell_type": "markdown",
   "metadata": {},
   "source": [
    "Find MSE:"
   ]
  },
  {
   "cell_type": "code",
   "execution_count": 54,
   "metadata": {},
   "outputs": [
    {
     "data": {
      "text/plain": [
       "0.260862"
      ]
     },
     "execution_count": 54,
     "metadata": {},
     "output_type": "execute_result"
    }
   ],
   "source": [
    "mean_squared_error(answers_test, y_2)"
   ]
  },
  {
   "cell_type": "markdown",
   "metadata": {},
   "source": [
    "Find the accuracy:"
   ]
  },
  {
   "cell_type": "code",
   "execution_count": 55,
   "metadata": {},
   "outputs": [
    {
     "name": "stdout",
     "output_type": "stream",
     "text": [
      "accuracy of the algorithm: 95.1469 %\n"
     ]
    },
    {
     "data": {
      "text/plain": [
       "951469"
      ]
     },
     "execution_count": 55,
     "metadata": {},
     "output_type": "execute_result"
    }
   ],
   "source": [
    "correct = 0\n",
    "for i in range (0, len(y_2)):\n",
    "    if (round(y_2[i]) == answers_test[i]):\n",
    "        correct += 1\n",
    "accuracy_dt_r = round(correct / len(y_2) * 100,2)\n",
    "print (\"accuracy of the algorithm:\", (correct / len(y_2)) * 100, \"%\")\n",
    "correct"
   ]
  },
  {
   "cell_type": "markdown",
   "metadata": {},
   "source": [
    "# Naive Bayes"
   ]
  },
  {
   "cell_type": "markdown",
   "metadata": {},
   "source": [
    "Prediction with Naive Bayes:"
   ]
  },
  {
   "cell_type": "code",
   "execution_count": 56,
   "metadata": {
    "scrolled": true
   },
   "outputs": [
    {
     "name": "stdout",
     "output_type": "stream",
     "text": [
      "Accuracy: 0.557004\n"
     ]
    }
   ],
   "source": [
    "from sklearn.naive_bayes import GaussianNB\n",
    "\n",
    "#Create a Gaussian Classifier\n",
    "gnb = GaussianNB(var_smoothing = 0.2848035868435802)\n",
    "\n",
    "#Train the model using the training sets\n",
    "gnb.fit(features_train, answers_train)\n",
    "\n",
    "#Predict the response for test dataset\n",
    "y_pred = gnb.predict(features_test)\n",
    "\n",
    "\n",
    "# Model Accuracy, how often is the classifier correct?\n",
    "accuracy_nb = round(accuracy_score(answers_test, y_pred)*100, 2)\n",
    "print(\"Accuracy:\", accuracy_score(answers_test, y_pred))"
   ]
  },
  {
   "cell_type": "markdown",
   "metadata": {},
   "source": [
    "With the usage of Gaussian Naive Bayes, find the optimal parameters:"
   ]
  },
  {
   "cell_type": "code",
   "execution_count": 57,
   "metadata": {},
   "outputs": [
    {
     "name": "stdout",
     "output_type": "stream",
     "text": [
      "Fitting 5 folds for each of 100 candidates, totalling 500 fits\n"
     ]
    },
    {
     "name": "stderr",
     "output_type": "stream",
     "text": [
      "[Parallel(n_jobs=1)]: Using backend SequentialBackend with 1 concurrent workers.\n",
      "[Parallel(n_jobs=1)]: Done 500 out of 500 | elapsed:    4.2s finished\n"
     ]
    },
    {
     "data": {
      "text/plain": [
       "{'var_smoothing': 0.2848035868435802}"
      ]
     },
     "execution_count": 57,
     "metadata": {},
     "output_type": "execute_result"
    }
   ],
   "source": [
    "nb_classifier = GaussianNB()\n",
    "\n",
    "params_NB = {'var_smoothing': np.logspace(0,-9, num=100)}\n",
    "gs_NB = GridSearchCV(estimator=nb_classifier, \n",
    "                 param_grid=params_NB, \n",
    "                    # use any cross validation technique \n",
    "                 verbose=1, \n",
    "                 scoring='accuracy') \n",
    "gs_NB.fit(features_train, answers_train)\n",
    "\n",
    "gs_NB.best_params_"
   ]
  },
  {
   "cell_type": "markdown",
   "metadata": {},
   "source": [
    "# Linear Regression"
   ]
  },
  {
   "cell_type": "code",
   "execution_count": 58,
   "metadata": {},
   "outputs": [],
   "source": [
    "from sklearn import linear_model"
   ]
  },
  {
   "cell_type": "code",
   "execution_count": 59,
   "metadata": {},
   "outputs": [
    {
     "name": "stdout",
     "output_type": "stream",
     "text": [
      "Mean squared error: 0.53\n"
     ]
    }
   ],
   "source": [
    "regr = linear_model.LinearRegression()\n",
    "\n",
    "# Train the model using the training sets\n",
    "regr.fit(features_train, answers_train)\n",
    "\n",
    "# Make predictions using the testing set\n",
    "pred = regr.predict(features_test)\n",
    "\n",
    "print('Mean squared error: %.2f'\n",
    "      % mean_squared_error(answers_test, pred))"
   ]
  },
  {
   "cell_type": "code",
   "execution_count": 61,
   "metadata": {
    "scrolled": true
   },
   "outputs": [
    {
     "name": "stdout",
     "output_type": "stream",
     "text": [
      "accuracy of the algorithm: 50.9953 %\n"
     ]
    },
    {
     "data": {
      "text/plain": [
       "509953"
      ]
     },
     "execution_count": 61,
     "metadata": {},
     "output_type": "execute_result"
    }
   ],
   "source": [
    "correct = 0\n",
    "for i in range (0, len(pred)):\n",
    "    if (round(pred[i]) == answers_test[i]):\n",
    "        correct += 1\n",
    "accuracy_lr = round((correct / len(pred)) * 100, 2)\n",
    "print (\"accuracy of the algorithm:\", (correct / len(pred)) * 100, \"%\")\n",
    "correct"
   ]
  },
  {
   "cell_type": "markdown",
   "metadata": {},
   "source": [
    "# Total accuracy"
   ]
  },
  {
   "cell_type": "code",
   "execution_count": 62,
   "metadata": {},
   "outputs": [
    {
     "data": {
      "image/png": "[encoded data removed]",
      "text/plain": [
       "<Figure size 432x288 with 1 Axes>"
      ]
     },
     "metadata": {
      "needs_background": "light"
     },
     "output_type": "display_data"
    }
   ],
   "source": [
    "accuracy_lr = 51\n",
    "accuracy_nb = 55.7\n",
    "accuracy_knn_c = 93.38\n",
    "accuracy_knn_r = 92.4\n",
    "acc_rf_r = 85.78\n",
    "acc_nn_k = 99.09\n",
    "acc_nn_s = 99.5\n",
    "algorithms = ('Linear Regression', 'Naive Bayes', 'KNN Classification',\n",
    "               'KNN Regression', 'Decision Tree Classification', \n",
    "                'Decision Tree Regression', 'Random Forest Classification', 'Random Forest Regression', \n",
    "              '\"Keras\" Neural Network', '\"Skicit-Learn\" Neural Network')\n",
    "accuracy = [accuracy_lr, accuracy_nb, accuracy_knn_c, accuracy_knn_r,\n",
    "                         acc_dt_c, acc_dt_r, acc_rf_c, acc_rf_r, acc_nn_k, acc_nn_s]\n",
    "\n",
    "\n",
    "#plt.grid(True)\n",
    "bar = plt.bar(algorithms, accuracy, color='orange')\n",
    "plt.xlabel('Algorithms', fontsize = 14)\n",
    "plt.ylabel('Accuracy, %', fontsize = 14)\n",
    "#plt.title('Accuracy of the applied algorithms')\n",
    "plt.xticks(rotation=90)\n",
    "for rect in bar:\n",
    "    height = rect.get_height()\n",
    "    plt.text(rect.get_x() + rect.get_width()/2.0, height, '%s' % str(height)+\"%\", ha='center', va='bottom', fontsize=8)\n",
    "\n",
    "plt.show()"
   ]
  },
  {
   "cell_type": "code",
   "execution_count": null,
   "metadata": {},
   "outputs": [],
   "source": []
  }
 ],
 "metadata": {
  "kernelspec": {
   "display_name": "Python 3",
   "language": "python",
   "name": "python3"
  },
  "language_info": {
   "codemirror_mode": {
    "name": "ipython",
    "version": 3
   },
   "file_extension": ".py",
   "mimetype": "text/x-python",
   "name": "python",
   "nbconvert_exporter": "python",
   "pygments_lexer": "ipython3",
   "version": "3.8.5"
  }
 },
 "nbformat": 4,
 "nbformat_minor": 4
}
